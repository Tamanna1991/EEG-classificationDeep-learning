{
 "cells": [
  {
   "cell_type": "markdown",
   "metadata": {},
   "source": [
    "# Data Loading and data preperation"
   ]
  },
  {
   "cell_type": "code",
   "execution_count": 10,
   "metadata": {},
   "outputs": [],
   "source": [
    "import scipy.io\n",
    "mat=scipy.io.loadmat('WLDataCW.mat')"
   ]
  },
  {
   "cell_type": "code",
   "execution_count": 11,
   "metadata": {},
   "outputs": [
    {
     "name": "stderr",
     "output_type": "stream",
     "text": [
      "C:\\ProgramData\\Anaconda3\\lib\\site-packages\\IPython\\core\\interactiveshell.py:3296: FutureWarning: \n",
      "Panel is deprecated and will be removed in a future version.\n",
      "The recommended way to represent these types of 3-dimensional data are with a MultiIndex on a DataFrame, via the Panel.to_frame() method\n",
      "Alternatively, you can use the xarray package http://xarray.pydata.org/en/stable/.\n",
      "Pandas provides a `.to_xarray()` method to help automate this conversion.\n",
      "\n",
      "  exec(code_obj, self.user_global_ns, self.user_ns)\n",
      "C:\\ProgramData\\Anaconda3\\lib\\site-packages\\ipykernel_launcher.py:3: FutureWarning: \n",
      "Panel is deprecated and will be removed in a future version.\n",
      "The recommended way to represent these types of 3-dimensional data are with a MultiIndex on a DataFrame, via the Panel.to_frame() method\n",
      "Alternatively, you can use the xarray package http://xarray.pydata.org/en/stable/.\n",
      "Pandas provides a `.to_xarray()` method to help automate this conversion.\n",
      "\n",
      "  This is separate from the ipykernel package so we can avoid doing imports until\n"
     ]
    }
   ],
   "source": [
    "import pandas as pd\n",
    "data=mat['data']"
   ]
  },
  {
   "cell_type": "code",
   "execution_count": 173,
   "metadata": {},
   "outputs": [
    {
     "data": {
      "text/plain": [
       "(360, 512, 62)"
      ]
     },
     "execution_count": 173,
     "metadata": {},
     "output_type": "execute_result"
    }
   ],
   "source": [
    "df_1=data.transpose()\n",
    "df_1.shape"
   ]
  },
  {
   "cell_type": "code",
   "execution_count": 319,
   "metadata": {},
   "outputs": [],
   "source": [
    "labels=mat['label'][0].tolist()"
   ]
  },
  {
   "cell_type": "code",
   "execution_count": 323,
   "metadata": {},
   "outputs": [
    {
     "data": {
      "text/plain": [
       "<matplotlib.axes._subplots.AxesSubplot at 0x279a629a828>"
      ]
     },
     "execution_count": 323,
     "metadata": {},
     "output_type": "execute_result"
    },
    {
     "data": {
      "image/png": "[encoded data removed]",
      "text/plain": [
       "<Figure size 432x288 with 1 Axes>"
      ]
     },
     "metadata": {
      "needs_background": "light"
     },
     "output_type": "display_data"
    }
   ],
   "source": [
    "sns.countplot(labels)"
   ]
  },
  {
   "cell_type": "code",
   "execution_count": 321,
   "metadata": {},
   "outputs": [],
   "source": [
    "#randomly shuffle data\n",
    "from sklearn.utils import shuffle\n",
    "X, y = shuffle(df_1, labels, random_state=32)"
   ]
  },
  {
   "cell_type": "code",
   "execution_count": null,
   "metadata": {},
   "outputs": [],
   "source": []
  },
  {
   "cell_type": "markdown",
   "metadata": {},
   "source": [
    "# Neural Network Scratch"
   ]
  },
  {
   "cell_type": "code",
   "execution_count": 92,
   "metadata": {},
   "outputs": [],
   "source": [
    "class Layer:\n",
    "    def __init__(self):\n",
    "        self.input = None\n",
    "        self.output = None\n",
    "\n",
    "    # computes the output Y of a layer for a given input X\n",
    "    def forward_propagation(self, input):\n",
    "        raise NotImplementedError\n",
    "\n",
    "    # computes dE/dX for a given dE/dY (and update parameters if any)\n",
    "    def backward_propagation(self, output_error, learning_rate):\n",
    "        raise NotImplementedError"
   ]
  },
  {
   "cell_type": "code",
   "execution_count": 93,
   "metadata": {},
   "outputs": [],
   "source": [
    "import numpy as np\n",
    "\n",
    "# inherit from base class Layer\n",
    "class FullyConnectedLayer(Layer):\n",
    "    # input_size = number of input neurons\n",
    "    # output_size = number of output neurons\n",
    "    def __init__(self, input_size, output_size):\n",
    "        self.weights = np.random.rand(input_size, output_size) - 0.5\n",
    "        self.bias = np.random.rand(1, output_size) - 0.5\n",
    "\n",
    "    # returns output for a given input\n",
    "    def forward_propagation(self, input_data):\n",
    "        self.input = input_data\n",
    "        self.output = np.dot(self.input, self.weights) + self.bias\n",
    "        return self.output\n",
    "\n",
    "    # computes dE/dW, dE/dB for a given output_error=dE/dY. Returns input_error=dE/dX.\n",
    "    def backward_propagation(self, output_error, learning_rate):\n",
    "        input_error = np.dot(output_error, self.weights.T)\n",
    "        weights_error = np.dot(self.input.T, output_error)\n",
    "        # dBias = output_error\n",
    "\n",
    "        # update parameters\n",
    "        self.weights -= learning_rate * weights_error\n",
    "        self.bias -= learning_rate * output_error\n",
    "        return input_error"
   ]
  },
  {
   "cell_type": "code",
   "execution_count": 95,
   "metadata": {},
   "outputs": [],
   "source": [
    "class ActivationLayer(Layer):\n",
    "    def __init__(self, activation, activation_cap):\n",
    "        self.activation = activation\n",
    "        self.activation_cap = activation_cap\n",
    "\n",
    "    # returns the activated input\n",
    "    def forward_propagation(self, input_data):\n",
    "        self.input = input_data\n",
    "        self.output = self.activation(self.input)\n",
    "        return self.output\n",
    "\n",
    "    # Returns input_error=dE/dX for a given output_error=dE/dY.\n",
    "    # learning_rate is not used because there is no \"learnable\" parameters.\n",
    "    def backward_propagation(self, output_error, learning_rate):\n",
    "        return self.activation_cap(self.input) * output_error"
   ]
  },
  {
   "cell_type": "code",
   "execution_count": 97,
   "metadata": {},
   "outputs": [],
   "source": [
    "import numpy as np\n",
    "\n",
    "# activation function and its derivative\n",
    "def tanh(x):\n",
    "    return np.tanh(x);\n",
    "\n",
    "def tanh_cap(x):\n",
    "    return 1-np.tanh(x)**2;"
   ]
  },
  {
   "cell_type": "code",
   "execution_count": 101,
   "metadata": {},
   "outputs": [],
   "source": [
    "import numpy as np\n",
    "\n",
    "# loss function and its derivative\n",
    "def meansquareerror(y_true, y_pred):\n",
    "    return np.mean(np.power(y_true-y_pred, 2));\n",
    "\n",
    "def meansquareerror_cap(y_true, y_pred):\n",
    "    return 2*(y_pred-y_true)/y_true.size;"
   ]
  },
  {
   "cell_type": "code",
   "execution_count": 243,
   "metadata": {},
   "outputs": [],
   "source": [
    "class Network:\n",
    "    def __init__(self):\n",
    "        self.layers = []\n",
    "        self.loss = None\n",
    "        self.loss_cap = None\n",
    "\n",
    "    # add layer to network\n",
    "    def add(self, layer):\n",
    "        self.layers.append(layer)\n",
    "\n",
    "    # set loss to use\n",
    "    def use(self, loss, loss_cap):\n",
    "        self.loss = loss\n",
    "        self.loss_cap = loss_cap\n",
    "\n",
    "    # predict output for given input\n",
    "    def predict(self, input_data):\n",
    "        # sample dimension first\n",
    "        samples = len(input_data)\n",
    "        result = []\n",
    "\n",
    "        # run network over all samples\n",
    "        for i in range(samples):\n",
    "            # forward propagation\n",
    "            output = input_data[i]\n",
    "            for layer in self.layers:\n",
    "                output = layer.forward_propagation(output)\n",
    "            result.append(output)\n",
    "\n",
    "        return result\n",
    "\n",
    "    # train the network\n",
    "    def fit(self, x_train, y_train, epochs, learning_rate):\n",
    "        # sample dimension first\n",
    "        error_list=[]\n",
    "        samples = len(x_train)\n",
    "\n",
    "        # training loop\n",
    "        for i in range(epochs):\n",
    "            err = 0\n",
    "            for j in range(samples):\n",
    "                # forward propagation\n",
    "                output = x_train[j]\n",
    "                for layer in self.layers:\n",
    "                    output = layer.forward_propagation(output)\n",
    "\n",
    "                # compute loss (for display purpose only)\n",
    "                err += self.loss(y_train[j], output)\n",
    "\n",
    "                # backward propagation\n",
    "                error = self.loss_cap(y_train[j], output)\n",
    "                for layer in reversed(self.layers):\n",
    "                    error = layer.backward_propagation(error, learning_rate)\n",
    "\n",
    "            # calculate average error on all samples\n",
    "            err /= samples\n",
    "            print('epoch %d/%d   error=%f' % (i+1, epochs, err))\n",
    "            error_list.append(err)\n",
    "        return error_list"
   ]
  },
  {
   "cell_type": "code",
   "execution_count": 287,
   "metadata": {},
   "outputs": [],
   "source": [
    "#distribute data for training\n",
    "x_train=X[:288].reshape(288,1,512*62)\n",
    "y_train=np.array(y[:288])"
   ]
  },
  {
   "cell_type": "code",
   "execution_count": 288,
   "metadata": {},
   "outputs": [
    {
     "data": {
      "text/plain": [
       "<matplotlib.axes._subplots.AxesSubplot at 0x279c3e67cf8>"
      ]
     },
     "execution_count": 288,
     "metadata": {},
     "output_type": "execute_result"
    },
    {
     "data": {
      "image/png": "[encoded data removed]",
      "text/plain": [
       "<Figure size 432x288 with 1 Axes>"
      ]
     },
     "metadata": {
      "needs_background": "light"
     },
     "output_type": "display_data"
    }
   ],
   "source": [
    "#plot counts of target distributed in training data\n",
    "import seaborn as sns\n",
    "sns.countplot(y_train)"
   ]
  },
  {
   "cell_type": "markdown",
   "metadata": {},
   "source": [
    "# Implement Scratch Neural Network"
   ]
  },
  {
   "cell_type": "code",
   "execution_count": 289,
   "metadata": {},
   "outputs": [
    {
     "name": "stdout",
     "output_type": "stream",
     "text": [
      "epoch 1/100   error=0.327526\n",
      "epoch 2/100   error=0.282543\n",
      "epoch 3/100   error=0.275654\n",
      "epoch 4/100   error=0.265422\n",
      "epoch 5/100   error=0.249779\n",
      "epoch 6/100   error=0.227827\n",
      "epoch 7/100   error=0.200007\n",
      "epoch 8/100   error=0.194893\n",
      "epoch 9/100   error=0.177483\n",
      "epoch 10/100   error=0.175671\n",
      "epoch 11/100   error=0.190254\n",
      "epoch 12/100   error=0.161425\n",
      "epoch 13/100   error=0.148574\n",
      "epoch 14/100   error=0.159451\n",
      "epoch 15/100   error=0.131129\n",
      "epoch 16/100   error=0.130885\n",
      "epoch 17/100   error=0.113004\n",
      "epoch 18/100   error=0.105439\n",
      "epoch 19/100   error=0.099681\n",
      "epoch 20/100   error=0.091472\n",
      "epoch 21/100   error=0.090632\n",
      "epoch 22/100   error=0.085104\n",
      "epoch 23/100   error=0.098638\n",
      "epoch 24/100   error=0.115566\n",
      "epoch 25/100   error=0.138869\n",
      "epoch 26/100   error=0.096709\n",
      "epoch 27/100   error=0.084946\n",
      "epoch 28/100   error=0.079366\n",
      "epoch 29/100   error=0.081874\n",
      "epoch 30/100   error=0.087898\n",
      "epoch 31/100   error=0.087041\n",
      "epoch 32/100   error=0.108192\n",
      "epoch 33/100   error=0.139676\n",
      "epoch 34/100   error=0.126173\n",
      "epoch 35/100   error=0.097386\n",
      "epoch 36/100   error=0.079427\n",
      "epoch 37/100   error=0.069196\n",
      "epoch 38/100   error=0.063984\n",
      "epoch 39/100   error=0.070145\n",
      "epoch 40/100   error=0.074288\n",
      "epoch 41/100   error=0.075378\n",
      "epoch 42/100   error=0.077503\n",
      "epoch 43/100   error=0.071388\n",
      "epoch 44/100   error=0.065217\n",
      "epoch 45/100   error=0.067164\n",
      "epoch 46/100   error=0.063430\n",
      "epoch 47/100   error=0.065270\n",
      "epoch 48/100   error=0.061660\n",
      "epoch 49/100   error=0.060443\n",
      "epoch 50/100   error=0.060610\n",
      "epoch 51/100   error=0.069176\n",
      "epoch 52/100   error=0.066552\n",
      "epoch 53/100   error=0.058680\n",
      "epoch 54/100   error=0.058057\n",
      "epoch 55/100   error=0.056709\n",
      "epoch 56/100   error=0.059823\n",
      "epoch 57/100   error=0.060926\n",
      "epoch 58/100   error=0.060023\n",
      "epoch 59/100   error=0.059524\n",
      "epoch 60/100   error=0.061717\n",
      "epoch 61/100   error=0.059091\n",
      "epoch 62/100   error=0.063478\n",
      "epoch 63/100   error=0.067988\n",
      "epoch 64/100   error=0.057306\n",
      "epoch 65/100   error=0.060146\n",
      "epoch 66/100   error=0.063895\n",
      "epoch 67/100   error=0.059852\n",
      "epoch 68/100   error=0.064267\n",
      "epoch 69/100   error=0.058605\n",
      "epoch 70/100   error=0.068094\n",
      "epoch 71/100   error=0.062902\n",
      "epoch 72/100   error=0.053945\n",
      "epoch 73/100   error=0.054044\n",
      "epoch 74/100   error=0.054535\n",
      "epoch 75/100   error=0.054758\n",
      "epoch 76/100   error=0.052786\n",
      "epoch 77/100   error=0.050920\n",
      "epoch 78/100   error=0.049919\n",
      "epoch 79/100   error=0.055637\n",
      "epoch 80/100   error=0.051079\n",
      "epoch 81/100   error=0.049364\n",
      "epoch 82/100   error=0.055557\n",
      "epoch 83/100   error=0.051376\n",
      "epoch 84/100   error=0.054217\n",
      "epoch 85/100   error=0.050036\n",
      "epoch 86/100   error=0.058125\n",
      "epoch 87/100   error=0.061259\n",
      "epoch 88/100   error=0.074790\n",
      "epoch 89/100   error=0.063340\n",
      "epoch 90/100   error=0.061192\n",
      "epoch 91/100   error=0.053103\n",
      "epoch 92/100   error=0.065542\n",
      "epoch 93/100   error=0.048961\n",
      "epoch 94/100   error=0.054160\n",
      "epoch 95/100   error=0.047331\n",
      "epoch 96/100   error=0.042926\n",
      "epoch 97/100   error=0.058684\n",
      "epoch 98/100   error=0.053586\n",
      "epoch 99/100   error=0.070525\n",
      "epoch 100/100   error=0.060931\n"
     ]
    }
   ],
   "source": [
    "#made neural network for training using tanh activation function\n",
    "net = Network()\n",
    "net.add(FullyConnectedLayer(512*62, 50))\n",
    "net.add(ActivationLayer(tanh, tanh_prime))\n",
    "net.add(FullyConnectedLayer(50, 10))\n",
    "net.add(ActivationLayer(tanh, tanh_prime))\n",
    "net.add(FullyConnectedLayer(10, 5))\n",
    "net.add(ActivationLayer(tanh, tanh_prime))\n",
    "net.add(FullyConnectedLayer(5, 1))\n",
    "net.add(ActivationLayer(tanh, tanh_prime))\n",
    "\n",
    "# train\n",
    "net.use(meansquareerror, meansquareerror_cap)\n",
    "#Train initiate with 100epochs\n",
    "error=net.fit(x_train, y_train, epochs=100, learning_rate=0.1)"
   ]
  },
  {
   "cell_type": "code",
   "execution_count": null,
   "metadata": {},
   "outputs": [],
   "source": []
  },
  {
   "cell_type": "code",
   "execution_count": null,
   "metadata": {},
   "outputs": [],
   "source": []
  },
  {
   "cell_type": "code",
   "execution_count": 290,
   "metadata": {},
   "outputs": [
    {
     "data": {
      "image/png": "[encoded data removed]",
      "text/plain": [
       "<Figure size 432x288 with 1 Axes>"
      ]
     },
     "metadata": {
      "needs_background": "light"
     },
     "output_type": "display_data"
    }
   ],
   "source": [
    "#plot training error\n",
    "import matplotlib.pyplot as plt\n",
    "plt.plot(error)\n",
    "plt.show()"
   ]
  },
  {
   "cell_type": "code",
   "execution_count": 304,
   "metadata": {},
   "outputs": [],
   "source": [
    "#make predictions on test/validation data\n",
    "y_pred=net.predict(X[289:].reshape(X[289:].shape[0],1,512*62))\n",
    "y_actual=y[289:]"
   ]
  },
  {
   "cell_type": "code",
   "execution_count": 305,
   "metadata": {},
   "outputs": [
    {
     "data": {
      "text/plain": [
       "<matplotlib.axes._subplots.AxesSubplot at 0x279af767198>"
      ]
     },
     "execution_count": 305,
     "metadata": {},
     "output_type": "execute_result"
    },
    {
     "data": {
      "image/png": "[encoded data removed]",
      "text/plain": [
       "<Figure size 432x288 with 1 Axes>"
      ]
     },
     "metadata": {
      "needs_background": "light"
     },
     "output_type": "display_data"
    }
   ],
   "source": [
    "#distribution target in test data\n",
    "sns.countplot(y_actual)"
   ]
  },
  {
   "cell_type": "code",
   "execution_count": 306,
   "metadata": {},
   "outputs": [],
   "source": [
    "#applied softmax activation here\n",
    "y_pred_list=[]\n",
    "for i in range(len(y_pred)):\n",
    "    if(y_pred[i][0][0]>0.5):\n",
    "        y_pred_list.append(1)\n",
    "    elif(y_pred[i][0][0]<=0.5):\n",
    "        y_pred_list.append(0)"
   ]
  },
  {
   "cell_type": "code",
   "execution_count": 325,
   "metadata": {},
   "outputs": [
    {
     "data": {
      "text/plain": [
       "<matplotlib.axes._subplots.AxesSubplot at 0x279a6147400>"
      ]
     },
     "execution_count": 325,
     "metadata": {},
     "output_type": "execute_result"
    },
    {
     "data": {
      "image/png": "[encoded data removed]",
      "text/plain": [
       "<Figure size 432x288 with 2 Axes>"
      ]
     },
     "metadata": {
      "needs_background": "light"
     },
     "output_type": "display_data"
    }
   ],
   "source": [
    "from sklearn.metrics import confusion_matrix\n",
    "cm=confusion_matrix(y_pred_list,y_actual)\n",
    "sns.heatmap(cm,annot=True)"
   ]
  },
  {
   "cell_type": "code",
   "execution_count": 308,
   "metadata": {},
   "outputs": [
    {
     "data": {
      "text/plain": [
       "0.4647887323943662"
      ]
     },
     "execution_count": 308,
     "metadata": {},
     "output_type": "execute_result"
    }
   ],
   "source": [
    "accuracy=(cm[0][0]+cm[1][1])/(cm[0][0]+cm[1][1]+cm[0][1]+cm[1][0])\n",
    "accuracy"
   ]
  },
  {
   "cell_type": "markdown",
   "metadata": {},
   "source": [
    "# using Library"
   ]
  },
  {
   "cell_type": "code",
   "execution_count": 296,
   "metadata": {},
   "outputs": [],
   "source": [
    "#create data for training using support of library\n",
    "x_train=X[:288].reshape(288,512,62,1)\n",
    "y_train=np.array(y[:288])"
   ]
  },
  {
   "cell_type": "code",
   "execution_count": 267,
   "metadata": {},
   "outputs": [],
   "source": [
    "#here we are using a CNN model for training and adding dense layers for final predictions using sigmoid activation\n",
    "from keras.models import Sequential\n",
    "from keras.layers import Conv2D, MaxPooling2D\n",
    "from keras.layers import Activation, Dropout, Flatten, Dense\n",
    "from keras.optimizers import Adam\n",
    "\n",
    "def cnn_Neural_Net():\n",
    "    model = Sequential()\n",
    "    model.add(Conv2D(32, (3, 3), input_shape=x_train[0].shape))\n",
    "    model.add(Activation('relu'))\n",
    "    model.add(MaxPooling2D(pool_size=(2, 2)))\n",
    "\n",
    "    model.add(Conv2D(32, (3, 3)))\n",
    "    model.add(Activation('relu'))\n",
    "    model.add(MaxPooling2D(pool_size=(2, 2)))\n",
    "\n",
    "    model.add(Conv2D(64, (3, 3)))\n",
    "    model.add(Activation('relu'))\n",
    "    model.add(MaxPooling2D(pool_size=(2, 2)))\n",
    "\n",
    "    model.add(Flatten())  # this converts our 3D feature maps to 1D feature vectors\n",
    "    model.add(Dense(64))\n",
    "    model.add(Activation('relu'))\n",
    "    model.add(Dropout(0.5))\n",
    "    model.add(Dense(10))\n",
    "    model.add(Activation('relu'))\n",
    "    model.add(Dense(1))\n",
    "    model.add(Activation('sigmoid'))\n",
    "\n",
    "    opt=Adam(lr=0.0001)#optimizer\n",
    "#model compile\n",
    "    model.compile(loss='binary_crossentropy',\n",
    "              optimizer=opt,\n",
    "              metrics=['accuracy'])\n",
    "    return model\n"
   ]
  },
  {
   "cell_type": "code",
   "execution_count": 297,
   "metadata": {},
   "outputs": [],
   "source": [
    "#create data for validation\n",
    "x_test=X[289:].reshape(X[289:].shape[0],512,62,1)\n",
    "y_test=y[289:]"
   ]
  },
  {
   "cell_type": "code",
   "execution_count": 269,
   "metadata": {},
   "outputs": [
    {
     "name": "stdout",
     "output_type": "stream",
     "text": [
      "Epoch 1/50\n",
      "230/230 [==============================] - 9s 38ms/step - loss: 1.0765 - accuracy: 0.5391\n",
      "Epoch 2/50\n",
      "230/230 [==============================] - 10s 43ms/step - loss: 0.8350 - accuracy: 0.6000\n",
      "Epoch 3/50\n",
      "230/230 [==============================] - 10s 42ms/step - loss: 0.7690 - accuracy: 0.6043\n",
      "Epoch 4/50\n",
      "230/230 [==============================] - 10s 43ms/step - loss: 0.6744 - accuracy: 0.6391\n",
      "Epoch 5/50\n",
      "230/230 [==============================] - 10s 43ms/step - loss: 0.5884 - accuracy: 0.7478\n",
      "Epoch 6/50\n",
      "230/230 [==============================] - 10s 42ms/step - loss: 0.5432 - accuracy: 0.7217\n",
      "Epoch 7/50\n",
      "230/230 [==============================] - 10s 43ms/step - loss: 0.5464 - accuracy: 0.7304\n",
      "Epoch 8/50\n",
      "230/230 [==============================] - 10s 45ms/step - loss: 0.5006 - accuracy: 0.7870\n",
      "Epoch 9/50\n",
      "230/230 [==============================] - 10s 43ms/step - loss: 0.4302 - accuracy: 0.8348\n",
      "Epoch 10/50\n",
      "230/230 [==============================] - 10s 41ms/step - loss: 0.3853 - accuracy: 0.8435\n",
      "Epoch 11/50\n",
      "230/230 [==============================] - 10s 42ms/step - loss: 0.3972 - accuracy: 0.8478\n",
      "Epoch 12/50\n",
      "230/230 [==============================] - 9s 41ms/step - loss: 0.3189 - accuracy: 0.8913\n",
      "Epoch 13/50\n",
      "230/230 [==============================] - 10s 42ms/step - loss: 0.2897 - accuracy: 0.9000\n",
      "Epoch 14/50\n",
      "230/230 [==============================] - 10s 42ms/step - loss: 0.3246 - accuracy: 0.8870\n",
      "Epoch 15/50\n",
      "230/230 [==============================] - 10s 43ms/step - loss: 0.2729 - accuracy: 0.9130\n",
      "Epoch 16/50\n",
      "230/230 [==============================] - 9s 41ms/step - loss: 0.2493 - accuracy: 0.9130\n",
      "Epoch 17/50\n",
      "230/230 [==============================] - 10s 42ms/step - loss: 0.2666 - accuracy: 0.9000\n",
      "Epoch 18/50\n",
      "230/230 [==============================] - 9s 41ms/step - loss: 0.2076 - accuracy: 0.9348\n",
      "Epoch 19/50\n",
      "230/230 [==============================] - 10s 42ms/step - loss: 0.2285 - accuracy: 0.9174\n",
      "Epoch 20/50\n",
      "230/230 [==============================] - 9s 41ms/step - loss: 0.1702 - accuracy: 0.9391\n",
      "Epoch 21/50\n",
      "230/230 [==============================] - 10s 42ms/step - loss: 0.1832 - accuracy: 0.9261\n",
      "Epoch 22/50\n",
      "230/230 [==============================] - 10s 43ms/step - loss: 0.1497 - accuracy: 0.9565\n",
      "Epoch 23/50\n",
      "230/230 [==============================] - 9s 41ms/step - loss: 0.1989 - accuracy: 0.9217\n",
      "Epoch 24/50\n",
      "230/230 [==============================] - 10s 42ms/step - loss: 0.1445 - accuracy: 0.9565\n",
      "Epoch 25/50\n",
      "230/230 [==============================] - 10s 42ms/step - loss: 0.1640 - accuracy: 0.9130\n",
      "Epoch 26/50\n",
      "230/230 [==============================] - 10s 42ms/step - loss: 0.1551 - accuracy: 0.9478\n",
      "Epoch 27/50\n",
      "230/230 [==============================] - 10s 42ms/step - loss: 0.1173 - accuracy: 0.9696\n",
      "Epoch 28/50\n",
      "230/230 [==============================] - 10s 43ms/step - loss: 0.1255 - accuracy: 0.9478\n",
      "Epoch 29/50\n",
      "230/230 [==============================] - 10s 45ms/step - loss: 0.1309 - accuracy: 0.9435\n",
      "Epoch 30/50\n",
      "230/230 [==============================] - 10s 44ms/step - loss: 0.1268 - accuracy: 0.9391\n",
      "Epoch 31/50\n",
      "230/230 [==============================] - 10s 43ms/step - loss: 0.1074 - accuracy: 0.9739\n",
      "Epoch 32/50\n",
      "230/230 [==============================] - 11s 47ms/step - loss: 0.1398 - accuracy: 0.9609\n",
      "Epoch 33/50\n",
      "230/230 [==============================] - 11s 48ms/step - loss: 0.1346 - accuracy: 0.9391\n",
      "Epoch 34/50\n",
      "230/230 [==============================] - 11s 48ms/step - loss: 0.1011 - accuracy: 0.9696\n",
      "Epoch 35/50\n",
      "230/230 [==============================] - 10s 44ms/step - loss: 0.1351 - accuracy: 0.9435\n",
      "Epoch 36/50\n",
      "230/230 [==============================] - 10s 42ms/step - loss: 0.0990 - accuracy: 0.9565\n",
      "Epoch 37/50\n",
      "230/230 [==============================] - 10s 42ms/step - loss: 0.0918 - accuracy: 0.9652\n",
      "Epoch 38/50\n",
      "230/230 [==============================] - 9s 41ms/step - loss: 0.1076 - accuracy: 0.9565\n",
      "Epoch 39/50\n",
      "230/230 [==============================] - 9s 41ms/step - loss: 0.0949 - accuracy: 0.9435\n",
      "Epoch 40/50\n",
      "230/230 [==============================] - 9s 41ms/step - loss: 0.1360 - accuracy: 0.9304\n",
      "Epoch 41/50\n",
      "230/230 [==============================] - 10s 42ms/step - loss: 0.0838 - accuracy: 0.9652\n",
      "Epoch 42/50\n",
      "230/230 [==============================] - 10s 44ms/step - loss: 0.0948 - accuracy: 0.9522\n",
      "Epoch 43/50\n",
      "230/230 [==============================] - 10s 41ms/step - loss: 0.1100 - accuracy: 0.9522\n",
      "Epoch 44/50\n",
      "230/230 [==============================] - 10s 41ms/step - loss: 0.0971 - accuracy: 0.9609\n",
      "Epoch 45/50\n",
      "230/230 [==============================] - 9s 41ms/step - loss: 0.1082 - accuracy: 0.9522\n",
      "Epoch 46/50\n",
      "230/230 [==============================] - 10s 41ms/step - loss: 0.0885 - accuracy: 0.9652\n",
      "Epoch 47/50\n",
      "230/230 [==============================] - 10s 42ms/step - loss: 0.0680 - accuracy: 0.9696\n",
      "Epoch 48/50\n",
      "230/230 [==============================] - 9s 41ms/step - loss: 0.0786 - accuracy: 0.9478\n",
      "Epoch 49/50\n",
      "230/230 [==============================] - 10s 43ms/step - loss: 0.0575 - accuracy: 0.9696\n",
      "Epoch 50/50\n",
      "230/230 [==============================] - 9s 41ms/step - loss: 0.0646 - accuracy: 0.9522\n",
      "58/58 [==============================] - 1s 12ms/step\n",
      "Epoch 1/50\n",
      "230/230 [==============================] - 10s 42ms/step - loss: 0.8935 - accuracy: 0.4913\n",
      "Epoch 2/50\n",
      "230/230 [==============================] - 9s 41ms/step - loss: 0.7716 - accuracy: 0.5739\n",
      "Epoch 3/50\n",
      "230/230 [==============================] - 10s 41ms/step - loss: 0.6975 - accuracy: 0.5913\n",
      "Epoch 4/50\n",
      "230/230 [==============================] - 9s 41ms/step - loss: 0.6722 - accuracy: 0.5652\n",
      "Epoch 5/50\n",
      "230/230 [==============================] - 10s 42ms/step - loss: 0.6301 - accuracy: 0.6478\n",
      "Epoch 6/50\n",
      "230/230 [==============================] - 10s 42ms/step - loss: 0.6297 - accuracy: 0.6826\n",
      "Epoch 7/50\n",
      "230/230 [==============================] - 10s 42ms/step - loss: 0.6015 - accuracy: 0.7174\n",
      "Epoch 8/50\n",
      "230/230 [==============================] - 10s 42ms/step - loss: 0.4596 - accuracy: 0.7957\n",
      "Epoch 9/50\n",
      "230/230 [==============================] - 10s 42ms/step - loss: 0.4712 - accuracy: 0.7739\n",
      "Epoch 10/50\n",
      "230/230 [==============================] - 9s 41ms/step - loss: 0.4013 - accuracy: 0.8478\n",
      "Epoch 11/50\n",
      "230/230 [==============================] - 9s 41ms/step - loss: 0.3547 - accuracy: 0.8435\n",
      "Epoch 12/50\n",
      "230/230 [==============================] - 10s 44ms/step - loss: 0.3315 - accuracy: 0.8739\n",
      "Epoch 13/50\n",
      "230/230 [==============================] - 10s 41ms/step - loss: 0.2921 - accuracy: 0.8870\n",
      "Epoch 14/50\n",
      "230/230 [==============================] - 10s 42ms/step - loss: 0.2544 - accuracy: 0.9000\n",
      "Epoch 15/50\n",
      "230/230 [==============================] - 10s 42ms/step - loss: 0.1990 - accuracy: 0.9391\n",
      "Epoch 16/50\n",
      "230/230 [==============================] - 10s 41ms/step - loss: 0.2059 - accuracy: 0.9217\n",
      "Epoch 17/50\n",
      "230/230 [==============================] - 9s 41ms/step - loss: 0.1795 - accuracy: 0.9391\n",
      "Epoch 18/50\n",
      "230/230 [==============================] - 9s 41ms/step - loss: 0.1582 - accuracy: 0.9435\n",
      "Epoch 19/50\n",
      "230/230 [==============================] - 10s 42ms/step - loss: 0.1922 - accuracy: 0.9348\n",
      "Epoch 20/50\n",
      "230/230 [==============================] - 9s 41ms/step - loss: 0.1350 - accuracy: 0.9696\n",
      "Epoch 21/50\n",
      "230/230 [==============================] - 11s 46ms/step - loss: 0.1280 - accuracy: 0.9609\n",
      "Epoch 22/50\n",
      "230/230 [==============================] - 10s 42ms/step - loss: 0.1737 - accuracy: 0.9478\n",
      "Epoch 23/50\n",
      "230/230 [==============================] - 9s 40ms/step - loss: 0.1186 - accuracy: 0.9783\n",
      "Epoch 24/50\n",
      "230/230 [==============================] - 9s 41ms/step - loss: 0.1021 - accuracy: 0.9739\n",
      "Epoch 25/50\n",
      "230/230 [==============================] - 9s 41ms/step - loss: 0.1042 - accuracy: 0.9696\n",
      "Epoch 26/50\n",
      "230/230 [==============================] - 10s 43ms/step - loss: 0.1027 - accuracy: 0.9609\n",
      "Epoch 27/50\n",
      "230/230 [==============================] - 9s 41ms/step - loss: 0.0857 - accuracy: 0.9783\n",
      "Epoch 28/50\n",
      "230/230 [==============================] - 9s 41ms/step - loss: 0.1047 - accuracy: 0.9652\n",
      "Epoch 29/50\n",
      "230/230 [==============================] - 9s 41ms/step - loss: 0.0550 - accuracy: 0.9826\n",
      "Epoch 30/50\n"
     ]
    },
    {
     "name": "stdout",
     "output_type": "stream",
     "text": [
      "230/230 [==============================] - 9s 41ms/step - loss: 0.0528 - accuracy: 0.9826\n",
      "Epoch 31/50\n",
      "230/230 [==============================] - 10s 42ms/step - loss: 0.0842 - accuracy: 0.9609\n",
      "Epoch 32/50\n",
      "230/230 [==============================] - 10s 42ms/step - loss: 0.0636 - accuracy: 0.9826\n",
      "Epoch 33/50\n",
      "230/230 [==============================] - 10s 43ms/step - loss: 0.0610 - accuracy: 0.9870\n",
      "Epoch 34/50\n",
      "230/230 [==============================] - 10s 43ms/step - loss: 0.0522 - accuracy: 0.9913\n",
      "Epoch 35/50\n",
      "230/230 [==============================] - 9s 41ms/step - loss: 0.0632 - accuracy: 0.9783\n",
      "Epoch 36/50\n",
      "230/230 [==============================] - 9s 41ms/step - loss: 0.0606 - accuracy: 0.9870\n",
      "Epoch 37/50\n",
      "230/230 [==============================] - 9s 41ms/step - loss: 0.0550 - accuracy: 0.9739\n",
      "Epoch 38/50\n",
      "230/230 [==============================] - 10s 42ms/step - loss: 0.0459 - accuracy: 0.9783\n",
      "Epoch 39/50\n",
      "230/230 [==============================] - 10s 42ms/step - loss: 0.0562 - accuracy: 0.9739\n",
      "Epoch 40/50\n",
      "230/230 [==============================] - 10s 42ms/step - loss: 0.0270 - accuracy: 1.0000\n",
      "Epoch 41/50\n",
      "230/230 [==============================] - 9s 41ms/step - loss: 0.0333 - accuracy: 0.9870\n",
      "Epoch 42/50\n",
      "230/230 [==============================] - 10s 42ms/step - loss: 0.0558 - accuracy: 0.9870\n",
      "Epoch 43/50\n",
      "230/230 [==============================] - 9s 41ms/step - loss: 0.0391 - accuracy: 0.9913\n",
      "Epoch 44/50\n",
      "230/230 [==============================] - 9s 41ms/step - loss: 0.0396 - accuracy: 0.9870\n",
      "Epoch 45/50\n",
      "230/230 [==============================] - 9s 41ms/step - loss: 0.0414 - accuracy: 0.9826\n",
      "Epoch 46/50\n",
      "230/230 [==============================] - 10s 43ms/step - loss: 0.0502 - accuracy: 0.9739\n",
      "Epoch 47/50\n",
      "230/230 [==============================] - 9s 41ms/step - loss: 0.0560 - accuracy: 0.9826\n",
      "Epoch 48/50\n",
      "230/230 [==============================] - 9s 41ms/step - loss: 0.0357 - accuracy: 0.9870\n",
      "Epoch 49/50\n",
      "230/230 [==============================] - 9s 41ms/step - loss: 0.0638 - accuracy: 0.9565\n",
      "Epoch 50/50\n",
      "230/230 [==============================] - 9s 41ms/step - loss: 0.0279 - accuracy: 0.9826\n",
      "58/58 [==============================] - 1s 13ms/step\n",
      "Epoch 1/50\n",
      "230/230 [==============================] - 9s 41ms/step - loss: 0.9363 - accuracy: 0.5478\n",
      "Epoch 2/50\n",
      "230/230 [==============================] - 10s 42ms/step - loss: 0.7011 - accuracy: 0.6304\n",
      "Epoch 3/50\n",
      "230/230 [==============================] - 10s 43ms/step - loss: 0.6432 - accuracy: 0.6478\n",
      "Epoch 4/50\n",
      "230/230 [==============================] - 9s 41ms/step - loss: 0.6457 - accuracy: 0.7000\n",
      "Epoch 5/50\n",
      "230/230 [==============================] - 9s 41ms/step - loss: 0.6151 - accuracy: 0.6174\n",
      "Epoch 6/50\n",
      "230/230 [==============================] - 9s 41ms/step - loss: 0.5399 - accuracy: 0.7304\n",
      "Epoch 7/50\n",
      "230/230 [==============================] - 9s 41ms/step - loss: 0.5717 - accuracy: 0.7783\n",
      "Epoch 8/50\n",
      "230/230 [==============================] - 9s 41ms/step - loss: 0.5244 - accuracy: 0.7652\n",
      "Epoch 9/50\n",
      "230/230 [==============================] - 9s 41ms/step - loss: 0.4991 - accuracy: 0.7783\n",
      "Epoch 10/50\n",
      "230/230 [==============================] - 10s 42ms/step - loss: 0.5245 - accuracy: 0.7652\n",
      "Epoch 11/50\n",
      "230/230 [==============================] - 9s 41ms/step - loss: 0.4944 - accuracy: 0.7913\n",
      "Epoch 12/50\n",
      "230/230 [==============================] - 9s 41ms/step - loss: 0.3800 - accuracy: 0.8565\n",
      "Epoch 13/50\n",
      "230/230 [==============================] - 9s 41ms/step - loss: 0.3870 - accuracy: 0.8478\n",
      "Epoch 14/50\n",
      "230/230 [==============================] - 9s 41ms/step - loss: 0.3172 - accuracy: 0.9000\n",
      "Epoch 15/50\n",
      "230/230 [==============================] - 10s 42ms/step - loss: 0.3518 - accuracy: 0.8783\n",
      "Epoch 16/50\n",
      "230/230 [==============================] - 9s 41ms/step - loss: 0.2862 - accuracy: 0.9130\n",
      "Epoch 17/50\n",
      "230/230 [==============================] - 10s 44ms/step - loss: 0.3215 - accuracy: 0.8609\n",
      "Epoch 18/50\n",
      "230/230 [==============================] - 9s 41ms/step - loss: 0.3567 - accuracy: 0.8522\n",
      "Epoch 19/50\n",
      "230/230 [==============================] - 9s 41ms/step - loss: 0.3286 - accuracy: 0.8870\n",
      "Epoch 20/50\n",
      "230/230 [==============================] - 11s 46ms/step - loss: 0.2730 - accuracy: 0.8913\n",
      "Epoch 21/50\n",
      "230/230 [==============================] - 11s 46ms/step - loss: 0.3278 - accuracy: 0.8652\n",
      "Epoch 22/50\n",
      "230/230 [==============================] - 10s 42ms/step - loss: 0.2722 - accuracy: 0.9043\n",
      "Epoch 23/50\n",
      "230/230 [==============================] - 10s 43ms/step - loss: 0.2833 - accuracy: 0.8565\n",
      "Epoch 24/50\n",
      "230/230 [==============================] - 11s 46ms/step - loss: 0.2372 - accuracy: 0.9174\n",
      "Epoch 25/50\n",
      "230/230 [==============================] - 9s 41ms/step - loss: 0.2517 - accuracy: 0.9043\n",
      "Epoch 26/50\n",
      "230/230 [==============================] - 9s 41ms/step - loss: 0.2523 - accuracy: 0.9000\n",
      "Epoch 27/50\n",
      "230/230 [==============================] - 9s 41ms/step - loss: 0.2062 - accuracy: 0.9174\n",
      "Epoch 28/50\n",
      "230/230 [==============================] - 9s 41ms/step - loss: 0.1615 - accuracy: 0.9435\n",
      "Epoch 29/50\n",
      "230/230 [==============================] - 9s 41ms/step - loss: 0.2230 - accuracy: 0.8870\n",
      "Epoch 30/50\n",
      "230/230 [==============================] - 10s 42ms/step - loss: 0.2017 - accuracy: 0.9348\n",
      "Epoch 31/50\n",
      "230/230 [==============================] - 10s 42ms/step - loss: 0.2102 - accuracy: 0.9348\n",
      "Epoch 32/50\n",
      "230/230 [==============================] - 9s 41ms/step - loss: 0.2172 - accuracy: 0.9000\n",
      "Epoch 33/50\n",
      "230/230 [==============================] - 9s 41ms/step - loss: 0.2222 - accuracy: 0.9304\n",
      "Epoch 34/50\n",
      "230/230 [==============================] - 9s 41ms/step - loss: 0.1812 - accuracy: 0.9304\n",
      "Epoch 35/50\n",
      "230/230 [==============================] - 9s 41ms/step - loss: 0.1808 - accuracy: 0.9217\n",
      "Epoch 36/50\n",
      "230/230 [==============================] - 9s 41ms/step - loss: 0.1786 - accuracy: 0.9435\n",
      "Epoch 37/50\n",
      "230/230 [==============================] - 10s 42ms/step - loss: 0.1791 - accuracy: 0.9304\n",
      "Epoch 38/50\n",
      "230/230 [==============================] - 10s 41ms/step - loss: 0.1566 - accuracy: 0.9435\n",
      "Epoch 39/50\n",
      "230/230 [==============================] - 9s 41ms/step - loss: 0.1869 - accuracy: 0.9217\n",
      "Epoch 40/50\n",
      "230/230 [==============================] - 10s 42ms/step - loss: 0.1743 - accuracy: 0.9391\n",
      "Epoch 41/50\n",
      "230/230 [==============================] - 9s 41ms/step - loss: 0.1228 - accuracy: 0.9609\n",
      "Epoch 42/50\n",
      "230/230 [==============================] - 10s 41ms/step - loss: 0.1567 - accuracy: 0.9217\n",
      "Epoch 43/50\n",
      "230/230 [==============================] - 9s 41ms/step - loss: 0.1110 - accuracy: 0.9696\n",
      "Epoch 44/50\n",
      "230/230 [==============================] - 10s 43ms/step - loss: 0.1545 - accuracy: 0.9478\n",
      "Epoch 45/50\n",
      "230/230 [==============================] - 10s 42ms/step - loss: 0.1398 - accuracy: 0.9391\n",
      "Epoch 46/50\n",
      "230/230 [==============================] - 9s 41ms/step - loss: 0.1329 - accuracy: 0.9565\n",
      "Epoch 47/50\n",
      "230/230 [==============================] - 9s 41ms/step - loss: 0.1499 - accuracy: 0.9478\n",
      "Epoch 48/50\n",
      "230/230 [==============================] - 9s 41ms/step - loss: 0.1482 - accuracy: 0.9435\n",
      "Epoch 49/50\n",
      "230/230 [==============================] - 9s 41ms/step - loss: 0.1158 - accuracy: 0.9652\n",
      "Epoch 50/50\n",
      "230/230 [==============================] - 11s 47ms/step - loss: 0.1342 - accuracy: 0.9261\n",
      "58/58 [==============================] - 1s 13ms/step\n",
      "Epoch 1/50\n",
      "231/231 [==============================] - 10s 44ms/step - loss: 1.2684 - accuracy: 0.5152\n",
      "Epoch 2/50\n",
      "231/231 [==============================] - 10s 43ms/step - loss: 0.8091 - accuracy: 0.5325\n",
      "Epoch 3/50\n",
      "231/231 [==============================] - 9s 41ms/step - loss: 0.6601 - accuracy: 0.6190\n",
      "Epoch 4/50\n",
      "231/231 [==============================] - 10s 44ms/step - loss: 0.6814 - accuracy: 0.5238\n",
      "Epoch 5/50\n",
      "231/231 [==============================] - 10s 45ms/step - loss: 0.6146 - accuracy: 0.6494\n",
      "Epoch 6/50\n",
      "231/231 [==============================] - 9s 41ms/step - loss: 0.5433 - accuracy: 0.7359\n",
      "Epoch 7/50\n",
      "231/231 [==============================] - 10s 42ms/step - loss: 0.5409 - accuracy: 0.7056\n",
      "Epoch 8/50\n",
      "231/231 [==============================] - 10s 41ms/step - loss: 0.4337 - accuracy: 0.8442\n",
      "Epoch 9/50\n"
     ]
    },
    {
     "name": "stdout",
     "output_type": "stream",
     "text": [
      "231/231 [==============================] - 9s 41ms/step - loss: 0.4370 - accuracy: 0.8225\n",
      "Epoch 10/50\n",
      "231/231 [==============================] - 9s 41ms/step - loss: 0.4157 - accuracy: 0.8485\n",
      "Epoch 11/50\n",
      "231/231 [==============================] - 9s 41ms/step - loss: 0.3307 - accuracy: 0.8961\n",
      "Epoch 12/50\n",
      "231/231 [==============================] - 9s 41ms/step - loss: 0.3232 - accuracy: 0.9004\n",
      "Epoch 13/50\n",
      "231/231 [==============================] - 10s 41ms/step - loss: 0.2680 - accuracy: 0.9264\n",
      "Epoch 14/50\n",
      "231/231 [==============================] - 10s 42ms/step - loss: 0.2776 - accuracy: 0.8961\n",
      "Epoch 15/50\n",
      "231/231 [==============================] - 10s 41ms/step - loss: 0.3460 - accuracy: 0.8658\n",
      "Epoch 16/50\n",
      "231/231 [==============================] - 10s 42ms/step - loss: 0.3046 - accuracy: 0.8874\n",
      "Epoch 17/50\n",
      "231/231 [==============================] - 9s 41ms/step - loss: 0.2670 - accuracy: 0.9221\n",
      "Epoch 18/50\n",
      "231/231 [==============================] - 9s 41ms/step - loss: 0.1977 - accuracy: 0.9394\n",
      "Epoch 19/50\n",
      "231/231 [==============================] - 9s 41ms/step - loss: 0.2017 - accuracy: 0.9437\n",
      "Epoch 20/50\n",
      "231/231 [==============================] - 10s 41ms/step - loss: 0.2061 - accuracy: 0.9351\n",
      "Epoch 21/50\n",
      "231/231 [==============================] - 10s 42ms/step - loss: 0.1818 - accuracy: 0.9481\n",
      "Epoch 22/50\n",
      "231/231 [==============================] - 9s 41ms/step - loss: 0.1780 - accuracy: 0.9610\n",
      "Epoch 23/50\n",
      "231/231 [==============================] - 9s 41ms/step - loss: 0.2046 - accuracy: 0.9134\n",
      "Epoch 24/50\n",
      "231/231 [==============================] - 9s 41ms/step - loss: 0.1568 - accuracy: 0.9610\n",
      "Epoch 25/50\n",
      "231/231 [==============================] - 9s 41ms/step - loss: 0.1431 - accuracy: 0.9740\n",
      "Epoch 26/50\n",
      "231/231 [==============================] - 10s 42ms/step - loss: 0.1499 - accuracy: 0.9610\n",
      "Epoch 27/50\n",
      "231/231 [==============================] - 10s 41ms/step - loss: 0.1725 - accuracy: 0.9307\n",
      "Epoch 28/50\n",
      "231/231 [==============================] - 10s 43ms/step - loss: 0.1644 - accuracy: 0.9524\n",
      "Epoch 29/50\n",
      "231/231 [==============================] - 10s 42ms/step - loss: 0.1477 - accuracy: 0.9567\n",
      "Epoch 30/50\n",
      "231/231 [==============================] - 10s 42ms/step - loss: 0.1370 - accuracy: 0.9610\n",
      "Epoch 31/50\n",
      "231/231 [==============================] - 10s 42ms/step - loss: 0.1474 - accuracy: 0.9610\n",
      "Epoch 32/50\n",
      "231/231 [==============================] - 10s 42ms/step - loss: 0.1120 - accuracy: 0.9697\n",
      "Epoch 33/50\n",
      "231/231 [==============================] - 10s 42ms/step - loss: 0.1051 - accuracy: 0.9740\n",
      "Epoch 34/50\n",
      "231/231 [==============================] - 10s 43ms/step - loss: 0.1000 - accuracy: 0.9697\n",
      "Epoch 35/50\n",
      "231/231 [==============================] - 10s 44ms/step - loss: 0.0803 - accuracy: 0.9740\n",
      "Epoch 36/50\n",
      "231/231 [==============================] - 10s 42ms/step - loss: 0.0932 - accuracy: 0.9610\n",
      "Epoch 37/50\n",
      "231/231 [==============================] - 10s 45ms/step - loss: 0.0699 - accuracy: 0.9870\n",
      "Epoch 38/50\n",
      "231/231 [==============================] - 10s 41ms/step - loss: 0.0738 - accuracy: 0.9654\n",
      "Epoch 39/50\n",
      "231/231 [==============================] - 10s 41ms/step - loss: 0.0831 - accuracy: 0.9740\n",
      "Epoch 40/50\n",
      "231/231 [==============================] - 9s 41ms/step - loss: 0.0876 - accuracy: 0.9697\n",
      "Epoch 41/50\n",
      "231/231 [==============================] - 10s 41ms/step - loss: 0.0867 - accuracy: 0.9784\n",
      "Epoch 42/50\n",
      "231/231 [==============================] - 10s 44ms/step - loss: 0.0869 - accuracy: 0.9654\n",
      "Epoch 43/50\n",
      "231/231 [==============================] - 10s 42ms/step - loss: 0.0607 - accuracy: 0.9913\n",
      "Epoch 44/50\n",
      "231/231 [==============================] - 10s 41ms/step - loss: 0.0780 - accuracy: 0.9610\n",
      "Epoch 45/50\n",
      "231/231 [==============================] - 10s 42ms/step - loss: 0.0854 - accuracy: 0.9654\n",
      "Epoch 46/50\n",
      "231/231 [==============================] - 9s 41ms/step - loss: 0.0562 - accuracy: 0.9740\n",
      "Epoch 47/50\n",
      "231/231 [==============================] - 9s 41ms/step - loss: 0.0542 - accuracy: 0.9870\n",
      "Epoch 48/50\n",
      "231/231 [==============================] - 10s 42ms/step - loss: 0.0802 - accuracy: 0.9827\n",
      "Epoch 49/50\n",
      "231/231 [==============================] - 10s 41ms/step - loss: 0.0600 - accuracy: 0.9827\n",
      "Epoch 50/50\n",
      "231/231 [==============================] - 10s 41ms/step - loss: 0.0497 - accuracy: 0.9827\n",
      "57/57 [==============================] - 1s 13ms/step\n",
      "Epoch 1/50\n",
      "231/231 [==============================] - 10s 42ms/step - loss: 1.0567 - accuracy: 0.5584\n",
      "Epoch 2/50\n",
      "231/231 [==============================] - 9s 41ms/step - loss: 0.8355 - accuracy: 0.5325\n",
      "Epoch 3/50\n",
      "231/231 [==============================] - 10s 41ms/step - loss: 0.7398 - accuracy: 0.5541\n",
      "Epoch 4/50\n",
      "231/231 [==============================] - 10s 41ms/step - loss: 0.7298 - accuracy: 0.5195\n",
      "Epoch 5/50\n",
      "231/231 [==============================] - 10s 43ms/step - loss: 0.7006 - accuracy: 0.6061\n",
      "Epoch 6/50\n",
      "231/231 [==============================] - 9s 41ms/step - loss: 0.6663 - accuracy: 0.6017\n",
      "Epoch 7/50\n",
      "231/231 [==============================] - 9s 41ms/step - loss: 0.6245 - accuracy: 0.6883\n",
      "Epoch 8/50\n",
      "231/231 [==============================] - 10s 41ms/step - loss: 0.6741 - accuracy: 0.6494\n",
      "Epoch 9/50\n",
      "231/231 [==============================] - 10s 42ms/step - loss: 0.6015 - accuracy: 0.6883\n",
      "Epoch 10/50\n",
      "231/231 [==============================] - 10s 42ms/step - loss: 0.5262 - accuracy: 0.7619\n",
      "Epoch 11/50\n",
      "231/231 [==============================] - 10s 41ms/step - loss: 0.4621 - accuracy: 0.8528\n",
      "Epoch 12/50\n",
      "231/231 [==============================] - 10s 43ms/step - loss: 0.4238 - accuracy: 0.8182\n",
      "Epoch 13/50\n",
      "231/231 [==============================] - 10s 41ms/step - loss: 0.3555 - accuracy: 0.8485\n",
      "Epoch 14/50\n",
      "231/231 [==============================] - 10s 42ms/step - loss: 0.4024 - accuracy: 0.8312\n",
      "Epoch 15/50\n",
      "231/231 [==============================] - 10s 41ms/step - loss: 0.3505 - accuracy: 0.8874\n",
      "Epoch 16/50\n",
      "231/231 [==============================] - 10s 41ms/step - loss: 0.3199 - accuracy: 0.8961\n",
      "Epoch 17/50\n",
      "231/231 [==============================] - 10s 42ms/step - loss: 0.2923 - accuracy: 0.9134\n",
      "Epoch 18/50\n",
      "231/231 [==============================] - 10s 43ms/step - loss: 0.3476 - accuracy: 0.8961\n",
      "Epoch 19/50\n",
      "231/231 [==============================] - 10s 42ms/step - loss: 0.3058 - accuracy: 0.8745\n",
      "Epoch 20/50\n",
      "231/231 [==============================] - 10s 42ms/step - loss: 0.2500 - accuracy: 0.8918\n",
      "Epoch 21/50\n",
      "231/231 [==============================] - 9s 41ms/step - loss: 0.2358 - accuracy: 0.8918\n",
      "Epoch 22/50\n",
      "231/231 [==============================] - 10s 41ms/step - loss: 0.2140 - accuracy: 0.8831\n",
      "Epoch 23/50\n",
      "231/231 [==============================] - 9s 41ms/step - loss: 0.2087 - accuracy: 0.9177\n",
      "Epoch 24/50\n",
      "231/231 [==============================] - 10s 41ms/step - loss: 0.1916 - accuracy: 0.9091\n",
      "Epoch 25/50\n",
      "231/231 [==============================] - 10s 42ms/step - loss: 0.1668 - accuracy: 0.9264\n",
      "Epoch 26/50\n",
      "231/231 [==============================] - 10s 43ms/step - loss: 0.1778 - accuracy: 0.9177\n",
      "Epoch 27/50\n",
      "231/231 [==============================] - 9s 41ms/step - loss: 0.1608 - accuracy: 0.9610\n",
      "Epoch 28/50\n",
      "231/231 [==============================] - 9s 41ms/step - loss: 0.1637 - accuracy: 0.9610\n",
      "Epoch 29/50\n",
      "231/231 [==============================] - 10s 42ms/step - loss: 0.1723 - accuracy: 0.9567\n",
      "Epoch 30/50\n",
      "231/231 [==============================] - 10s 42ms/step - loss: 0.1442 - accuracy: 0.9567\n",
      "Epoch 31/50\n",
      "231/231 [==============================] - 10s 42ms/step - loss: 0.1699 - accuracy: 0.9134\n",
      "Epoch 32/50\n",
      "231/231 [==============================] - 10s 43ms/step - loss: 0.1515 - accuracy: 0.9610\n",
      "Epoch 33/50\n",
      "231/231 [==============================] - 9s 41ms/step - loss: 0.1391 - accuracy: 0.9567\n",
      "Epoch 34/50\n",
      "231/231 [==============================] - 10s 41ms/step - loss: 0.1468 - accuracy: 0.9524\n",
      "Epoch 35/50\n",
      "231/231 [==============================] - 10s 42ms/step - loss: 0.1333 - accuracy: 0.9610\n",
      "Epoch 36/50\n",
      "231/231 [==============================] - 9s 41ms/step - loss: 0.1181 - accuracy: 0.9654\n",
      "Epoch 37/50\n",
      "231/231 [==============================] - 9s 41ms/step - loss: 0.1188 - accuracy: 0.9351\n",
      "Epoch 38/50\n"
     ]
    },
    {
     "name": "stdout",
     "output_type": "stream",
     "text": [
      "231/231 [==============================] - 10s 42ms/step - loss: 0.1002 - accuracy: 0.9740\n",
      "Epoch 39/50\n",
      "231/231 [==============================] - 10s 43ms/step - loss: 0.0959 - accuracy: 0.9784\n",
      "Epoch 40/50\n",
      "231/231 [==============================] - 10s 41ms/step - loss: 0.0821 - accuracy: 0.9697\n",
      "Epoch 41/50\n",
      "231/231 [==============================] - 9s 41ms/step - loss: 0.0749 - accuracy: 0.9870\n",
      "Epoch 42/50\n",
      "231/231 [==============================] - 10s 42ms/step - loss: 0.0927 - accuracy: 0.9784\n",
      "Epoch 43/50\n",
      "231/231 [==============================] - 12s 50ms/step - loss: 0.1043 - accuracy: 0.9654\n",
      "Epoch 44/50\n",
      "231/231 [==============================] - 11s 46ms/step - loss: 0.1032 - accuracy: 0.9481\n",
      "Epoch 45/50\n",
      "231/231 [==============================] - 11s 49ms/step - loss: 0.1168 - accuracy: 0.9697\n",
      "Epoch 46/50\n",
      "231/231 [==============================] - 11s 47ms/step - loss: 0.1102 - accuracy: 0.9567\n",
      "Epoch 47/50\n",
      "231/231 [==============================] - 10s 43ms/step - loss: 0.0827 - accuracy: 0.9827\n",
      "Epoch 48/50\n",
      "231/231 [==============================] - 10s 43ms/step - loss: 0.0809 - accuracy: 0.9697\n",
      "Epoch 49/50\n",
      "231/231 [==============================] - 10s 43ms/step - loss: 0.0751 - accuracy: 0.9827\n",
      "Epoch 50/50\n",
      "231/231 [==============================] - 10s 44ms/step - loss: 0.0786 - accuracy: 0.9784\n",
      "57/57 [==============================] - 1s 14ms/step\n"
     ]
    }
   ],
   "source": [
    "#a special cell which calculates cross validation score using cv=5\n",
    "classifier = KerasClassifier(build_fn = cnn_Neural_Net,epochs = 50,batch_size=20)\n",
    "accuracies = cross_val_score(estimator=classifier,X = x_train,y = y_train,cv=5)"
   ]
  },
  {
   "cell_type": "code",
   "execution_count": 271,
   "metadata": {},
   "outputs": [
    {
     "name": "stdout",
     "output_type": "stream",
     "text": [
      "0.8993345379829407 0.03335489789096409\n"
     ]
    }
   ],
   "source": [
    "#accuracies mean and standard deviation using k-cross validation\n",
    "print(accuracies.mean(),accuracies.std())"
   ]
  },
  {
   "cell_type": "code",
   "execution_count": 298,
   "metadata": {},
   "outputs": [],
   "source": [
    "model_cnn=cnn_Neural_Net()"
   ]
  },
  {
   "cell_type": "code",
   "execution_count": 324,
   "metadata": {},
   "outputs": [
    {
     "name": "stdout",
     "output_type": "stream",
     "text": [
      "Model: \"sequential_25\"\n",
      "_________________________________________________________________\n",
      "Layer (type)                 Output Shape              Param #   \n",
      "=================================================================\n",
      "conv2d_71 (Conv2D)           (None, 510, 60, 32)       320       \n",
      "_________________________________________________________________\n",
      "activation_136 (Activation)  (None, 510, 60, 32)       0         \n",
      "_________________________________________________________________\n",
      "max_pooling2d_70 (MaxPooling (None, 255, 30, 32)       0         \n",
      "_________________________________________________________________\n",
      "conv2d_72 (Conv2D)           (None, 253, 28, 32)       9248      \n",
      "_________________________________________________________________\n",
      "activation_137 (Activation)  (None, 253, 28, 32)       0         \n",
      "_________________________________________________________________\n",
      "max_pooling2d_71 (MaxPooling (None, 126, 14, 32)       0         \n",
      "_________________________________________________________________\n",
      "conv2d_73 (Conv2D)           (None, 124, 12, 64)       18496     \n",
      "_________________________________________________________________\n",
      "activation_138 (Activation)  (None, 124, 12, 64)       0         \n",
      "_________________________________________________________________\n",
      "max_pooling2d_72 (MaxPooling (None, 62, 6, 64)         0         \n",
      "_________________________________________________________________\n",
      "flatten_24 (Flatten)         (None, 23808)             0         \n",
      "_________________________________________________________________\n",
      "dense_67 (Dense)             (None, 64)                1523776   \n",
      "_________________________________________________________________\n",
      "activation_139 (Activation)  (None, 64)                0         \n",
      "_________________________________________________________________\n",
      "dropout_24 (Dropout)         (None, 64)                0         \n",
      "_________________________________________________________________\n",
      "dense_68 (Dense)             (None, 10)                650       \n",
      "_________________________________________________________________\n",
      "activation_140 (Activation)  (None, 10)                0         \n",
      "_________________________________________________________________\n",
      "dense_69 (Dense)             (None, 1)                 11        \n",
      "_________________________________________________________________\n",
      "activation_141 (Activation)  (None, 1)                 0         \n",
      "=================================================================\n",
      "Total params: 1,552,501\n",
      "Trainable params: 1,552,501\n",
      "Non-trainable params: 0\n",
      "_________________________________________________________________\n",
      "None\n"
     ]
    }
   ],
   "source": [
    "print(model_cnn.summary())"
   ]
  },
  {
   "cell_type": "code",
   "execution_count": 299,
   "metadata": {},
   "outputs": [
    {
     "name": "stdout",
     "output_type": "stream",
     "text": [
      "Train on 288 samples, validate on 71 samples\n",
      "Epoch 1/100\n",
      "288/288 [==============================] - 13s 44ms/step - loss: 0.9647 - accuracy: 0.5312 - val_loss: 0.6880 - val_accuracy: 0.5211\n",
      "Epoch 2/100\n",
      "288/288 [==============================] - 13s 44ms/step - loss: 0.7817 - accuracy: 0.5278 - val_loss: 0.6833 - val_accuracy: 0.6901\n",
      "Epoch 3/100\n",
      "288/288 [==============================] - 14s 47ms/step - loss: 0.7157 - accuracy: 0.5729 - val_loss: 0.7006 - val_accuracy: 0.2958\n",
      "Epoch 4/100\n",
      "288/288 [==============================] - 14s 48ms/step - loss: 0.6955 - accuracy: 0.5069 - val_loss: 0.6929 - val_accuracy: 0.4225\n",
      "Epoch 5/100\n",
      "288/288 [==============================] - 14s 49ms/step - loss: 0.6362 - accuracy: 0.6146 - val_loss: 0.6667 - val_accuracy: 0.6197\n",
      "Epoch 6/100\n",
      "288/288 [==============================] - 13s 45ms/step - loss: 0.6373 - accuracy: 0.6007 - val_loss: 0.6964 - val_accuracy: 0.5634\n",
      "Epoch 7/100\n",
      "288/288 [==============================] - 13s 45ms/step - loss: 0.6253 - accuracy: 0.6458 - val_loss: 0.5998 - val_accuracy: 0.6620\n",
      "Epoch 8/100\n",
      "288/288 [==============================] - 13s 44ms/step - loss: 0.5809 - accuracy: 0.7014 - val_loss: 0.5242 - val_accuracy: 0.7324\n",
      "Epoch 9/100\n",
      "288/288 [==============================] - 13s 45ms/step - loss: 0.5918 - accuracy: 0.6771 - val_loss: 0.5250 - val_accuracy: 0.7183\n",
      "Epoch 10/100\n",
      "288/288 [==============================] - 13s 45ms/step - loss: 0.5330 - accuracy: 0.7535 - val_loss: 0.4585 - val_accuracy: 0.7887\n",
      "Epoch 11/100\n",
      "288/288 [==============================] - 13s 45ms/step - loss: 0.4925 - accuracy: 0.7812 - val_loss: 0.4662 - val_accuracy: 0.7746\n",
      "Epoch 12/100\n",
      "288/288 [==============================] - 13s 44ms/step - loss: 0.4340 - accuracy: 0.8264 - val_loss: 0.4536 - val_accuracy: 0.7887\n",
      "Epoch 13/100\n",
      "288/288 [==============================] - 13s 45ms/step - loss: 0.4316 - accuracy: 0.8194 - val_loss: 0.3614 - val_accuracy: 0.8451\n",
      "Epoch 14/100\n",
      "288/288 [==============================] - 13s 47ms/step - loss: 0.4204 - accuracy: 0.8472 - val_loss: 0.4240 - val_accuracy: 0.7887\n",
      "Epoch 15/100\n",
      "288/288 [==============================] - 13s 45ms/step - loss: 0.4063 - accuracy: 0.8090 - val_loss: 0.3245 - val_accuracy: 0.8732\n",
      "Epoch 16/100\n",
      "288/288 [==============================] - 13s 44ms/step - loss: 0.4354 - accuracy: 0.8333 - val_loss: 0.3979 - val_accuracy: 0.8451\n",
      "Epoch 17/100\n",
      "288/288 [==============================] - 13s 45ms/step - loss: 0.4153 - accuracy: 0.8229 - val_loss: 0.4144 - val_accuracy: 0.8310\n",
      "Epoch 18/100\n",
      "288/288 [==============================] - 13s 44ms/step - loss: 0.3269 - accuracy: 0.8889 - val_loss: 0.3145 - val_accuracy: 0.8732\n",
      "Epoch 19/100\n",
      "288/288 [==============================] - 13s 46ms/step - loss: 0.3412 - accuracy: 0.8646 - val_loss: 0.3969 - val_accuracy: 0.8451\n",
      "Epoch 20/100\n",
      "288/288 [==============================] - 13s 45ms/step - loss: 0.3214 - accuracy: 0.8819 - val_loss: 0.4318 - val_accuracy: 0.8310\n",
      "Epoch 21/100\n",
      "288/288 [==============================] - 13s 45ms/step - loss: 0.2884 - accuracy: 0.8958 - val_loss: 0.3299 - val_accuracy: 0.8592\n",
      "Epoch 22/100\n",
      "288/288 [==============================] - 13s 45ms/step - loss: 0.2728 - accuracy: 0.8611 - val_loss: 0.3355 - val_accuracy: 0.8451\n",
      "Epoch 23/100\n",
      "288/288 [==============================] - 13s 45ms/step - loss: 0.2626 - accuracy: 0.9097 - val_loss: 0.4558 - val_accuracy: 0.8451\n",
      "Epoch 24/100\n",
      "288/288 [==============================] - 13s 46ms/step - loss: 0.3167 - accuracy: 0.8715 - val_loss: 0.3534 - val_accuracy: 0.8592\n",
      "Epoch 25/100\n",
      "288/288 [==============================] - 13s 45ms/step - loss: 0.2493 - accuracy: 0.8924 - val_loss: 0.3232 - val_accuracy: 0.8592\n",
      "Epoch 26/100\n",
      "288/288 [==============================] - 13s 45ms/step - loss: 0.2317 - accuracy: 0.8958 - val_loss: 0.2799 - val_accuracy: 0.8592\n",
      "Epoch 27/100\n",
      "288/288 [==============================] - 13s 45ms/step - loss: 0.2582 - accuracy: 0.9062 - val_loss: 0.5553 - val_accuracy: 0.8028\n",
      "Epoch 28/100\n",
      "288/288 [==============================] - 13s 46ms/step - loss: 0.2880 - accuracy: 0.8646 - val_loss: 0.2404 - val_accuracy: 0.9014\n",
      "Epoch 29/100\n",
      "288/288 [==============================] - 13s 46ms/step - loss: 0.2399 - accuracy: 0.9271 - val_loss: 0.4300 - val_accuracy: 0.8451\n",
      "Epoch 30/100\n",
      "288/288 [==============================] - 13s 45ms/step - loss: 0.1731 - accuracy: 0.9444 - val_loss: 0.2851 - val_accuracy: 0.8451\n",
      "Epoch 31/100\n",
      "288/288 [==============================] - 13s 45ms/step - loss: 0.1770 - accuracy: 0.9271 - val_loss: 0.3285 - val_accuracy: 0.8592\n",
      "Epoch 32/100\n",
      "288/288 [==============================] - 13s 45ms/step - loss: 0.1654 - accuracy: 0.9410 - val_loss: 0.4112 - val_accuracy: 0.8592\n",
      "Epoch 33/100\n",
      "288/288 [==============================] - 13s 45ms/step - loss: 0.1599 - accuracy: 0.9306 - val_loss: 0.3632 - val_accuracy: 0.8732\n",
      "Epoch 34/100\n",
      "288/288 [==============================] - 13s 47ms/step - loss: 0.1591 - accuracy: 0.9410 - val_loss: 0.3122 - val_accuracy: 0.8592\n",
      "Epoch 35/100\n",
      "288/288 [==============================] - 13s 45ms/step - loss: 0.1714 - accuracy: 0.9201 - val_loss: 0.3899 - val_accuracy: 0.8592\n",
      "Epoch 36/100\n",
      "288/288 [==============================] - 13s 45ms/step - loss: 0.1668 - accuracy: 0.9271 - val_loss: 0.4965 - val_accuracy: 0.8592\n",
      "Epoch 37/100\n",
      "288/288 [==============================] - 13s 45ms/step - loss: 0.1434 - accuracy: 0.9375 - val_loss: 0.3499 - val_accuracy: 0.8732\n",
      "Epoch 38/100\n",
      "288/288 [==============================] - 13s 45ms/step - loss: 0.1266 - accuracy: 0.9514 - val_loss: 0.2834 - val_accuracy: 0.8732\n",
      "Epoch 39/100\n",
      "288/288 [==============================] - 14s 47ms/step - loss: 0.1426 - accuracy: 0.9514 - val_loss: 0.5338 - val_accuracy: 0.8592\n",
      "Epoch 40/100\n",
      "288/288 [==============================] - 13s 45ms/step - loss: 0.1576 - accuracy: 0.9375 - val_loss: 0.4625 - val_accuracy: 0.8592\n",
      "Epoch 41/100\n",
      "288/288 [==============================] - 13s 45ms/step - loss: 0.1554 - accuracy: 0.9375 - val_loss: 0.2975 - val_accuracy: 0.8732\n",
      "Epoch 42/100\n",
      "288/288 [==============================] - 13s 45ms/step - loss: 0.1496 - accuracy: 0.9271 - val_loss: 0.4686 - val_accuracy: 0.8592\n",
      "Epoch 43/100\n",
      "288/288 [==============================] - 13s 45ms/step - loss: 0.1710 - accuracy: 0.9236 - val_loss: 0.3693 - val_accuracy: 0.8592\n",
      "Epoch 44/100\n",
      "288/288 [==============================] - 13s 46ms/step - loss: 0.1535 - accuracy: 0.9410 - val_loss: 0.5594 - val_accuracy: 0.8451\n",
      "Epoch 45/100\n",
      "288/288 [==============================] - 13s 45ms/step - loss: 0.1424 - accuracy: 0.9514 - val_loss: 0.3191 - val_accuracy: 0.8592\n",
      "Epoch 46/100\n",
      "288/288 [==============================] - 13s 45ms/step - loss: 0.1474 - accuracy: 0.9410 - val_loss: 0.4104 - val_accuracy: 0.8592\n",
      "Epoch 47/100\n",
      "288/288 [==============================] - 13s 45ms/step - loss: 0.1150 - accuracy: 0.9514 - val_loss: 0.3132 - val_accuracy: 0.8451\n",
      "Epoch 48/100\n",
      "288/288 [==============================] - 13s 45ms/step - loss: 0.1135 - accuracy: 0.9653 - val_loss: 0.3743 - val_accuracy: 0.8732\n",
      "Epoch 49/100\n",
      "288/288 [==============================] - 13s 46ms/step - loss: 0.1236 - accuracy: 0.9375 - val_loss: 0.3967 - val_accuracy: 0.8732\n",
      "Epoch 50/100\n",
      "288/288 [==============================] - 13s 46ms/step - loss: 0.1251 - accuracy: 0.9444 - val_loss: 0.3828 - val_accuracy: 0.8732\n",
      "Epoch 51/100\n",
      "288/288 [==============================] - 13s 45ms/step - loss: 0.1026 - accuracy: 0.9757 - val_loss: 0.3928 - val_accuracy: 0.8592\n",
      "Epoch 52/100\n",
      "288/288 [==============================] - 13s 45ms/step - loss: 0.1083 - accuracy: 0.9583 - val_loss: 0.3566 - val_accuracy: 0.8592\n",
      "Epoch 53/100\n",
      "288/288 [==============================] - 13s 45ms/step - loss: 0.1176 - accuracy: 0.9514 - val_loss: 0.3505 - val_accuracy: 0.8592\n",
      "Epoch 54/100\n",
      "288/288 [==============================] - 13s 46ms/step - loss: 0.0804 - accuracy: 0.9757 - val_loss: 0.4664 - val_accuracy: 0.8732\n",
      "Epoch 55/100\n",
      "288/288 [==============================] - 13s 45ms/step - loss: 0.0875 - accuracy: 0.9722 - val_loss: 0.5106 - val_accuracy: 0.8732\n",
      "Epoch 56/100\n",
      "288/288 [==============================] - 13s 45ms/step - loss: 0.0745 - accuracy: 0.9722 - val_loss: 0.5355 - val_accuracy: 0.8732\n"
     ]
    },
    {
     "name": "stdout",
     "output_type": "stream",
     "text": [
      "Epoch 57/100\n",
      "288/288 [==============================] - 13s 45ms/step - loss: 0.0837 - accuracy: 0.9688 - val_loss: 0.3949 - val_accuracy: 0.8732\n",
      "Epoch 58/100\n",
      "288/288 [==============================] - 13s 45ms/step - loss: 0.1098 - accuracy: 0.9479 - val_loss: 0.4778 - val_accuracy: 0.8732\n",
      "Epoch 59/100\n",
      "288/288 [==============================] - 13s 46ms/step - loss: 0.0822 - accuracy: 0.9514 - val_loss: 0.5859 - val_accuracy: 0.8592\n",
      "Epoch 60/100\n",
      "288/288 [==============================] - 13s 45ms/step - loss: 0.0981 - accuracy: 0.9549 - val_loss: 0.4422 - val_accuracy: 0.8732\n",
      "Epoch 61/100\n",
      "288/288 [==============================] - 13s 45ms/step - loss: 0.0793 - accuracy: 0.9653 - val_loss: 0.3678 - val_accuracy: 0.8873\n",
      "Epoch 62/100\n",
      "288/288 [==============================] - 13s 45ms/step - loss: 0.0817 - accuracy: 0.9722 - val_loss: 0.5363 - val_accuracy: 0.8732\n",
      "Epoch 63/100\n",
      "288/288 [==============================] - 13s 44ms/step - loss: 0.0780 - accuracy: 0.9757 - val_loss: 0.4532 - val_accuracy: 0.8732\n",
      "Epoch 64/100\n",
      "288/288 [==============================] - 13s 46ms/step - loss: 0.1091 - accuracy: 0.9444 - val_loss: 0.4577 - val_accuracy: 0.8732\n",
      "Epoch 65/100\n",
      "288/288 [==============================] - 13s 46ms/step - loss: 0.0713 - accuracy: 0.9618 - val_loss: 0.4019 - val_accuracy: 0.8732\n",
      "Epoch 66/100\n",
      "288/288 [==============================] - 13s 45ms/step - loss: 0.0834 - accuracy: 0.9618 - val_loss: 0.4579 - val_accuracy: 0.8732\n",
      "Epoch 67/100\n",
      "288/288 [==============================] - 13s 45ms/step - loss: 0.0833 - accuracy: 0.9549 - val_loss: 0.4525 - val_accuracy: 0.8592\n",
      "Epoch 68/100\n",
      "288/288 [==============================] - 13s 44ms/step - loss: 0.0609 - accuracy: 0.9653 - val_loss: 0.5442 - val_accuracy: 0.8732\n",
      "Epoch 69/100\n",
      "288/288 [==============================] - 13s 46ms/step - loss: 0.0670 - accuracy: 0.9618 - val_loss: 0.4626 - val_accuracy: 0.8592\n",
      "Epoch 70/100\n",
      "288/288 [==============================] - 13s 46ms/step - loss: 0.0938 - accuracy: 0.9514 - val_loss: 0.4430 - val_accuracy: 0.8592\n",
      "Epoch 71/100\n",
      "288/288 [==============================] - 13s 44ms/step - loss: 0.0691 - accuracy: 0.9722 - val_loss: 0.4319 - val_accuracy: 0.8451\n",
      "Epoch 72/100\n",
      "288/288 [==============================] - 13s 45ms/step - loss: 0.0868 - accuracy: 0.9688 - val_loss: 0.6314 - val_accuracy: 0.8732\n",
      "Epoch 73/100\n",
      "288/288 [==============================] - 13s 45ms/step - loss: 0.0765 - accuracy: 0.9757 - val_loss: 0.3551 - val_accuracy: 0.8732\n",
      "Epoch 74/100\n",
      "288/288 [==============================] - 13s 46ms/step - loss: 0.0784 - accuracy: 0.9514 - val_loss: 0.4510 - val_accuracy: 0.8732\n",
      "Epoch 75/100\n",
      "288/288 [==============================] - 13s 46ms/step - loss: 0.0590 - accuracy: 0.9792 - val_loss: 0.3474 - val_accuracy: 0.9014\n",
      "Epoch 76/100\n",
      "288/288 [==============================] - 13s 46ms/step - loss: 0.0659 - accuracy: 0.9653 - val_loss: 0.5319 - val_accuracy: 0.8732\n",
      "Epoch 77/100\n",
      "288/288 [==============================] - 13s 45ms/step - loss: 0.0904 - accuracy: 0.9688 - val_loss: 0.2336 - val_accuracy: 0.9155\n",
      "Epoch 78/100\n",
      "288/288 [==============================] - 14s 49ms/step - loss: 0.1007 - accuracy: 0.9479 - val_loss: 0.4046 - val_accuracy: 0.8592\n",
      "Epoch 79/100\n",
      "288/288 [==============================] - 13s 45ms/step - loss: 0.0786 - accuracy: 0.9549 - val_loss: 0.3117 - val_accuracy: 0.8873\n",
      "Epoch 80/100\n",
      "288/288 [==============================] - 13s 46ms/step - loss: 0.0719 - accuracy: 0.9479 - val_loss: 0.4172 - val_accuracy: 0.8732\n",
      "Epoch 81/100\n",
      "288/288 [==============================] - 13s 45ms/step - loss: 0.0814 - accuracy: 0.9688 - val_loss: 0.4179 - val_accuracy: 0.8732\n",
      "Epoch 82/100\n",
      "288/288 [==============================] - 13s 45ms/step - loss: 0.0698 - accuracy: 0.9757 - val_loss: 0.3655 - val_accuracy: 0.8732\n",
      "Epoch 83/100\n",
      "288/288 [==============================] - 13s 45ms/step - loss: 0.0773 - accuracy: 0.9618 - val_loss: 0.3019 - val_accuracy: 0.9014\n",
      "Epoch 84/100\n",
      "288/288 [==============================] - 13s 45ms/step - loss: 0.0752 - accuracy: 0.9757 - val_loss: 0.7386 - val_accuracy: 0.8732\n",
      "Epoch 85/100\n",
      "288/288 [==============================] - 13s 46ms/step - loss: 0.0479 - accuracy: 0.9826 - val_loss: 0.3179 - val_accuracy: 0.9014\n",
      "Epoch 86/100\n",
      "288/288 [==============================] - 13s 44ms/step - loss: 0.0730 - accuracy: 0.9688 - val_loss: 0.5242 - val_accuracy: 0.8732\n",
      "Epoch 87/100\n",
      "288/288 [==============================] - 13s 45ms/step - loss: 0.0667 - accuracy: 0.9757 - val_loss: 0.4404 - val_accuracy: 0.8592\n",
      "Epoch 88/100\n",
      "288/288 [==============================] - 13s 45ms/step - loss: 0.0771 - accuracy: 0.9618 - val_loss: 0.4324 - val_accuracy: 0.8592\n",
      "Epoch 89/100\n",
      "288/288 [==============================] - 13s 44ms/step - loss: 0.0658 - accuracy: 0.9722 - val_loss: 0.5447 - val_accuracy: 0.8732\n",
      "Epoch 90/100\n",
      "288/288 [==============================] - 13s 46ms/step - loss: 0.0688 - accuracy: 0.9792 - val_loss: 0.5460 - val_accuracy: 0.8732\n",
      "Epoch 91/100\n",
      "288/288 [==============================] - 13s 44ms/step - loss: 0.0772 - accuracy: 0.9688 - val_loss: 0.5705 - val_accuracy: 0.8732\n",
      "Epoch 92/100\n",
      "288/288 [==============================] - 13s 44ms/step - loss: 0.0856 - accuracy: 0.9583 - val_loss: 0.4164 - val_accuracy: 0.8873\n",
      "Epoch 93/100\n",
      "288/288 [==============================] - 13s 45ms/step - loss: 0.0832 - accuracy: 0.9479 - val_loss: 0.5278 - val_accuracy: 0.8732\n",
      "Epoch 94/100\n",
      "288/288 [==============================] - 13s 44ms/step - loss: 0.0590 - accuracy: 0.9722 - val_loss: 0.3952 - val_accuracy: 0.8732\n",
      "Epoch 95/100\n",
      "288/288 [==============================] - 13s 46ms/step - loss: 0.0898 - accuracy: 0.9549 - val_loss: 0.7043 - val_accuracy: 0.8732\n",
      "Epoch 96/100\n",
      "288/288 [==============================] - 13s 45ms/step - loss: 0.0647 - accuracy: 0.9618 - val_loss: 0.4521 - val_accuracy: 0.8873\n",
      "Epoch 97/100\n",
      "288/288 [==============================] - 13s 45ms/step - loss: 0.0768 - accuracy: 0.9410 - val_loss: 0.5501 - val_accuracy: 0.8732\n",
      "Epoch 98/100\n",
      "288/288 [==============================] - 13s 45ms/step - loss: 0.0626 - accuracy: 0.9757 - val_loss: 0.5724 - val_accuracy: 0.8732\n",
      "Epoch 99/100\n",
      "288/288 [==============================] - 13s 44ms/step - loss: 0.0676 - accuracy: 0.9792 - val_loss: 0.3936 - val_accuracy: 0.8873\n",
      "Epoch 100/100\n",
      "288/288 [==============================] - 13s 46ms/step - loss: 0.0588 - accuracy: 0.9757 - val_loss: 0.6161 - val_accuracy: 0.8732\n"
     ]
    }
   ],
   "source": [
    "history=model_cnn.fit(x=x_train,y=y_train,epochs=100,validation_data=(x_test,y_test))"
   ]
  },
  {
   "cell_type": "code",
   "execution_count": 309,
   "metadata": {},
   "outputs": [
    {
     "data": {
      "image/png": "[encoded data removed]",
      "text/plain": [
       "<Figure size 720x720 with 2 Axes>"
      ]
     },
     "metadata": {
      "needs_background": "light"
     },
     "output_type": "display_data"
    }
   ],
   "source": [
    "#plot graphs of training accuracy and validation accuracy\n",
    "acc = history.history['accuracy']\n",
    "val_acc = history.history['val_accuracy']\n",
    "loss = history.history['loss']\n",
    "val_loss = history.history['val_loss']\n",
    "\n",
    "epochs_range = range(100)\n",
    "\n",
    "plt.figure(figsize=(10, 10))\n",
    "plt.subplot(2, 2, 1)\n",
    "#plot graphs of training accuracy and validation accuracy\n",
    "plt.plot(epochs_range, acc, label='Training Accuracy')\n",
    "plt.plot(epochs_range, val_acc, label='Validation Accuracy')\n",
    "plt.legend(loc='lower right')\n",
    "plt.title('Training and Validation Accuracy')\n",
    "\n",
    "plt.subplot(2, 2, 2)\n",
    "#plot graphs of training loss and validation loss\n",
    "plt.plot(epochs_range, loss, label='Training Loss')\n",
    "plt.plot(epochs_range, val_loss, label='Validation Loss')\n",
    "plt.legend(loc='upper right')\n",
    "plt.title('Training and Validation Loss')\n",
    "plt.show()"
   ]
  },
  {
   "cell_type": "code",
   "execution_count": 310,
   "metadata": {},
   "outputs": [
    {
     "name": "stdout",
     "output_type": "stream",
     "text": [
      "              precision    recall  f1-score   support\n",
      "\n",
      "           0       0.95      0.88      0.91        40\n",
      "           1       0.85      0.94      0.89        31\n",
      "\n",
      "   micro avg       0.90      0.90      0.90        71\n",
      "   macro avg       0.90      0.91      0.90        71\n",
      "weighted avg       0.91      0.90      0.90        71\n",
      "\n"
     ]
    }
   ],
   "source": [
    "#classification report\n",
    "from sklearn.metrics import classification_report,confusion_matrix\n",
    "predictions = model.predict_classes(x_test)\n",
    "predictions = predictions.reshape(1,-1)[0]\n",
    "print(classification_report(y_test, predictions))"
   ]
  },
  {
   "cell_type": "code",
   "execution_count": 326,
   "metadata": {},
   "outputs": [
    {
     "data": {
      "text/plain": [
       "<matplotlib.axes._subplots.AxesSubplot at 0x279a64396d8>"
      ]
     },
     "execution_count": 326,
     "metadata": {},
     "output_type": "execute_result"
    },
    {
     "data": {
      "image/png": "[encoded data removed]",
      "text/plain": [
       "<Figure size 432x288 with 2 Axes>"
      ]
     },
     "metadata": {
      "needs_background": "light"
     },
     "output_type": "display_data"
    }
   ],
   "source": [
    "#confusion matrix\n",
    "cm=confusion_matrix(predictions,y_test)\n",
    "sns.heatmap(cm,annot=True)"
   ]
  },
  {
   "cell_type": "code",
   "execution_count": 312,
   "metadata": {},
   "outputs": [
    {
     "data": {
      "text/plain": [
       "0.9014084507042254"
      ]
     },
     "execution_count": 312,
     "metadata": {},
     "output_type": "execute_result"
    }
   ],
   "source": [
    "#accuracy\n",
    "accuracy=(cm[0][0]+cm[1][1])/(cm[0][0]+cm[1][1]+cm[0][1]+cm[1][0])\n",
    "accuracy"
   ]
  },
  {
   "cell_type": "code",
   "execution_count": null,
   "metadata": {},
   "outputs": [],
   "source": []
  }
 ],
 "metadata": {
  "kernelspec": {
   "display_name": "Python 3",
   "language": "python",
   "name": "python3"
  },
  "language_info": {
   "codemirror_mode": {
    "name": "ipython",
    "version": 3
   },
   "file_extension": ".py",
   "mimetype": "text/x-python",
   "name": "python",
   "nbconvert_exporter": "python",
   "pygments_lexer": "ipython3",
   "version": "3.7.3"
  }
 },
 "nbformat": 4,
 "nbformat_minor": 2
}
